{
  "nbformat": 4,
  "nbformat_minor": 0,
  "metadata": {
    "colab": {
      "provenance": [],
      "authorship_tag": "ABX9TyMJ3I4iqXmYXZp8jEohPypL",
      "include_colab_link": true
    },
    "kernelspec": {
      "name": "python3",
      "display_name": "Python 3"
    },
    "language_info": {
      "name": "python"
    }
  },
  "cells": [
    {
      "cell_type": "markdown",
      "metadata": {
        "id": "view-in-github",
        "colab_type": "text"
      },
      "source": [
        "<a href=\"https://colab.research.google.com/github/NicolaGabriele/AgentMinorityGame/blob/master/dataset.ipynb\" target=\"_parent\"><img src=\"https://colab.research.google.com/assets/colab-badge.svg\" alt=\"Open In Colab\"/></a>"
      ]
    },
    {
      "cell_type": "code",
      "source": [
        "from google.colab import drive\n",
        "drive.mount('/content/drive',force_remount=True)"
      ],
      "metadata": {
        "colab": {
          "base_uri": "https://localhost:8080/"
        },
        "id": "IQr5AVpkVvh2",
        "outputId": "bac3d819-e077-4a01-c5d6-a84c8932a5f6"
      },
      "execution_count": 2,
      "outputs": [
        {
          "output_type": "stream",
          "name": "stdout",
          "text": [
            "Mounted at /content/drive\n"
          ]
        }
      ]
    },
    {
      "cell_type": "code",
      "source": [
        "import torch\n",
        "import torchvision"
      ],
      "metadata": {
        "id": "buOb0HrkZF7t"
      },
      "execution_count": 3,
      "outputs": []
    },
    {
      "cell_type": "code",
      "execution_count": 4,
      "metadata": {
        "id": "T1X6_EDGRJqt"
      },
      "outputs": [],
      "source": [
        "import json\n",
        "import os\n",
        "PCAPTIONS = '/content/drive/MyDrive/Capalbo-Gabriele-DiStefano/Data/Dataset/Pcaptions.jsonl'\n",
        "NUM_SAMPLES = 1231\n",
        "NUM_TRAIN_SAMPLES = 1000\n",
        "NUM_TEST_SAMPLES = 231\n",
        "RESTRICTED_CAPTIONS = '/content/drive/MyDrive/Capalbo-Gabriele-DiStefano/Data/Dataset/restricted_captions.jsonl'\n",
        "TRAINING = '/content/drive/MyDrive/Capalbo-Gabriele-DiStefano/Data/Dataset/training.jsonl'\n",
        "TEST = '/content/drive/MyDrive/Capalbo-Gabriele-DiStefano/Data/Dataset/test.jsonl'\n",
        "IMAGES = '/content/drive/MyDrive/Capalbo-Gabriele-DiStefano/Data/Dataset/figures'"
      ]
    },
    {
      "cell_type": "code",
      "source": [
        "#temp = []\n",
        "#i = 0\n",
        "#with open(PCAPTIONS, 'r') as f:\n",
        "#  for line in f:\n",
        "#    temp.append(json.loads(line))\n",
        "#    i+=1\n",
        "#    if i == NUM_SAMPLES:\n",
        "#      break\n",
        "#with open(RESTRICTED_CAPTIONS,'w') as f:\n",
        "#  for sample in temp:\n",
        "#    f.write(json.dumps(sample)+'\\n')"
      ],
      "metadata": {
        "id": "XJpQjJCXUlho"
      },
      "execution_count": null,
      "outputs": []
    },
    {
      "cell_type": "code",
      "source": [
        "#train = temp[:NUM_TRAIN_SAMPLES]\n",
        "#with open(TRAINING,'w') as f:\n",
        "#  for sample in train:\n",
        "#    f.write(json.dumps(sample)+'\\n')"
      ],
      "metadata": {
        "id": "egoBZWsuYD3x"
      },
      "execution_count": null,
      "outputs": []
    },
    {
      "cell_type": "code",
      "source": [
        "#test = temp[NUM_TRAIN_SAMPLES:NUM_SAMPLES]\n",
        "#with open(TEST,'w') as f:\n",
        "#  for sample in test:\n",
        "#    f.write(json.dumps(sample)+'\\n')"
      ],
      "metadata": {
        "id": "1hL4OtSRYUP5"
      },
      "execution_count": null,
      "outputs": []
    },
    {
      "cell_type": "code",
      "source": [
        "def _preprocess_label(label):\n",
        "    ret = ''\n",
        "    if label['s2_caption'] != None:\n",
        "      ret = ret + label['s2_caption']\n",
        "    if label['s2orc_captions'] != None:\n",
        "      ret = ret + label['s2orc_captions']\n",
        "    if label['s2orc_references'] != None:\n",
        "      for elem in label['s2orc_references']:\n",
        "        ret = ret + elem\n",
        "    return ret\n",
        "\n",
        "class MediCat(torch.utils.data.Dataset):\n",
        "  def __init__(self, json_file):\n",
        "    super(MediCat, self).__init__()\n",
        "    self.labels = []\n",
        "    jsons = []\n",
        "    with open(json_file, 'r') as f:\n",
        "      for line in f:\n",
        "        jsons.append(json.loads(line))\n",
        "        self.labels.append(_preprocess_label(json.loads(line)))\n",
        "    self.images = []\n",
        "    for label in jsons:\n",
        "      try:\n",
        "        self.images.append(torchvision.io.read_image(os.path.join(IMAGES, label['fig_uri']))/255)\n",
        "      except:\n",
        "        print(label['fig_uri'])\n",
        "\n",
        "  def __getitem__(self,idx):\n",
        "    return (self.labels[idx], self.images[idx])\n",
        "\n",
        "  def __len__(self):\n",
        "    return len(self.datas)"
      ],
      "metadata": {
        "id": "WWsA32zEZABx"
      },
      "execution_count": 13,
      "outputs": []
    },
    {
      "cell_type": "code",
      "source": [
        "data = MediCat(TEST)"
      ],
      "metadata": {
        "id": "-WI3SI51mUg4"
      },
      "execution_count": null,
      "outputs": []
    }
  ]
}